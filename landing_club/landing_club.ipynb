{
 "cells": [
  {
   "cell_type": "code",
   "execution_count": 351,
   "metadata": {},
   "outputs": [],
   "source": [
    "import pandas as pd\n",
    "import torch\n",
    "import torch.nn as nn\n",
    "import numpy as np\n",
    "from sklearn.model_selection import train_test_split\n",
    "from sklearn.preprocessing import StandardScaler\n",
    "from sklearn.preprocessing import OneHotEncoder\n",
    "from sklearn.preprocessing import LabelEncoder\n",
    "from sklearn.preprocessing import LabelBinarizer\n",
    "import torch.onnx\n",
    "\n",
    "import matplotlib.pyplot as plt\n",
    "\n",
    "pd.options.display.max_rows=999"
   ]
  },
  {
   "cell_type": "code",
   "execution_count": 352,
   "metadata": {},
   "outputs": [],
   "source": [
    "FULL_DATASET_NAME = 'data/landing_club/accepted_2007_to_2018Q4.csv'\n",
    "SMALL_SAMPLE_DATASET_NAME = 'data/landing_club/accepted_2007_to_2018Q4_small_sample.csv'\n",
    "SMALL_HEAD_DATASET_NAME = 'data/landing_club/accepted_2007_to_2018Q4_small_head.csv'"
   ]
  },
  {
   "attachments": {},
   "cell_type": "markdown",
   "metadata": {},
   "source": [
    "Sample a few records for faster work"
   ]
  },
  {
   "cell_type": "code",
   "execution_count": 353,
   "metadata": {},
   "outputs": [],
   "source": [
    "# Make small dataset\n",
    "# col_names = ['loan_amnt', 'home_ownership', 'annual_inc', 'purpose', 'addr_state', 'term', 'emp_length', 'int_rate']\n",
    "# col_names = ['loan_amnt', 'home_ownership', 'annual_inc','term', 'emp_length', 'int_rate']\n",
    "col_names = ['loan_amnt', 'home_ownership', 'annual_inc', 'int_rate']\n",
    "\n",
    "# acc_raw_df = pd.read_csv(FULL_DATASET_NAME)\n",
    "# acc_raw_df.sample(1000).to_csv(SMALL_SAMPLE_DATASET_NAME, columns=col_names)\n",
    "# acc_raw_df.head(1000).to_csv(SMALL_HEAD_DATASET_NAME, columns=col_names)"
   ]
  },
  {
   "attachments": {},
   "cell_type": "markdown",
   "metadata": {},
   "source": [
    "Read the small dataset"
   ]
  },
  {
   "cell_type": "code",
   "execution_count": 354,
   "metadata": {},
   "outputs": [],
   "source": [
    "acc_raw_df = pd.read_csv(SMALL_SAMPLE_DATASET_NAME)"
   ]
  },
  {
   "attachments": {},
   "cell_type": "markdown",
   "metadata": {},
   "source": [
    "Remove Nan rows"
   ]
  },
  {
   "cell_type": "code",
   "execution_count": 355,
   "metadata": {
    "tags": []
   },
   "outputs": [
    {
     "name": "stdout",
     "output_type": "stream",
     "text": [
      "Records dropped: 0\n",
      "   loan_amnt home_ownership  annual_inc  int_rate\n",
      "0     5950.0       MORTGAGE     32000.0     19.99\n",
      "1     4200.0           RENT     53000.0     19.99\n",
      "2    10000.0           RENT     35000.0     12.74\n",
      "3    10000.0           RENT     54000.0     14.08\n",
      "4    15000.0       MORTGAGE     55000.0     11.53\n",
      "5    30000.0       MORTGAGE    123996.0     17.99\n",
      "6    15000.0       MORTGAGE     42000.0     16.02\n",
      "7    12000.0           RENT     44000.0      8.18\n",
      "8    25000.0       MORTGAGE    140000.0     18.25\n",
      "9    12000.0       MORTGAGE     87000.0     15.99\n"
     ]
    },
    {
     "data": {
      "text/html": [
       "<div>\n",
       "<style scoped>\n",
       "    .dataframe tbody tr th:only-of-type {\n",
       "        vertical-align: middle;\n",
       "    }\n",
       "\n",
       "    .dataframe tbody tr th {\n",
       "        vertical-align: top;\n",
       "    }\n",
       "\n",
       "    .dataframe thead th {\n",
       "        text-align: right;\n",
       "    }\n",
       "</style>\n",
       "<table border=\"1\" class=\"dataframe\">\n",
       "  <thead>\n",
       "    <tr style=\"text-align: right;\">\n",
       "      <th></th>\n",
       "      <th>loan_amnt</th>\n",
       "      <th>annual_inc</th>\n",
       "      <th>int_rate</th>\n",
       "    </tr>\n",
       "  </thead>\n",
       "  <tbody>\n",
       "    <tr>\n",
       "      <th>count</th>\n",
       "      <td>1000.000000</td>\n",
       "      <td>1000.000000</td>\n",
       "      <td>1000.000000</td>\n",
       "    </tr>\n",
       "    <tr>\n",
       "      <th>mean</th>\n",
       "      <td>15587.775000</td>\n",
       "      <td>77682.579500</td>\n",
       "      <td>13.301180</td>\n",
       "    </tr>\n",
       "    <tr>\n",
       "      <th>std</th>\n",
       "      <td>9464.852857</td>\n",
       "      <td>55798.989019</td>\n",
       "      <td>4.825294</td>\n",
       "    </tr>\n",
       "    <tr>\n",
       "      <th>min</th>\n",
       "      <td>1000.000000</td>\n",
       "      <td>7666.000000</td>\n",
       "      <td>5.310000</td>\n",
       "    </tr>\n",
       "    <tr>\n",
       "      <th>25%</th>\n",
       "      <td>8000.000000</td>\n",
       "      <td>46000.000000</td>\n",
       "      <td>9.750000</td>\n",
       "    </tr>\n",
       "    <tr>\n",
       "      <th>50%</th>\n",
       "      <td>14000.000000</td>\n",
       "      <td>65000.000000</td>\n",
       "      <td>12.740000</td>\n",
       "    </tr>\n",
       "    <tr>\n",
       "      <th>75%</th>\n",
       "      <td>21000.000000</td>\n",
       "      <td>91122.000000</td>\n",
       "      <td>16.020000</td>\n",
       "    </tr>\n",
       "    <tr>\n",
       "      <th>max</th>\n",
       "      <td>40000.000000</td>\n",
       "      <td>870000.000000</td>\n",
       "      <td>30.940000</td>\n",
       "    </tr>\n",
       "  </tbody>\n",
       "</table>\n",
       "</div>"
      ],
      "text/plain": [
       "          loan_amnt     annual_inc     int_rate\n",
       "count   1000.000000    1000.000000  1000.000000\n",
       "mean   15587.775000   77682.579500    13.301180\n",
       "std     9464.852857   55798.989019     4.825294\n",
       "min     1000.000000    7666.000000     5.310000\n",
       "25%     8000.000000   46000.000000     9.750000\n",
       "50%    14000.000000   65000.000000    12.740000\n",
       "75%    21000.000000   91122.000000    16.020000\n",
       "max    40000.000000  870000.000000    30.940000"
      ]
     },
     "execution_count": 355,
     "metadata": {},
     "output_type": "execute_result"
    }
   ],
   "source": [
    "# Remove records with nan\n",
    "acc_df = acc_raw_df.loc[:, col_names]\n",
    "acc_df_len = len(acc_df)\n",
    "\n",
    "acc_df.dropna(inplace=True)\n",
    "print(f'Records dropped: {acc_df_len - len(acc_df)}')\n",
    "\n",
    "print(acc_df.head(10))\n",
    "acc_df.describe()\n"
   ]
  },
  {
   "attachments": {},
   "cell_type": "markdown",
   "metadata": {},
   "source": [
    "Encoding functions for categorical features"
   ]
  },
  {
   "cell_type": "code",
   "execution_count": 356,
   "metadata": {},
   "outputs": [],
   "source": [
    "def encode_one_hot(df):\n",
    "   categorical_cols = list(acc_df.select_dtypes(include=['object']))\n",
    "   print(categorical_cols)\n",
    "   one_hot_enc = OneHotEncoder(sparse_output=False)\n",
    "   for col in categorical_cols:\n",
    "      label_encoded = one_hot_enc.fit_transform(df[col].to_numpy().reshape(-1, 1))\n",
    "      print(col)\n",
    "      df[col] = label_encoded.tolist()\n",
    "   return df\n",
    "\n",
    "def encode_label(df):\n",
    "   categorical_cols = list(acc_df.select_dtypes(include=['object']))\n",
    "   print(categorical_cols)\n",
    "   label_enc = LabelEncoder()\n",
    "   for col in categorical_cols:\n",
    "      label_encoded = label_enc.fit_transform(df[col])\n",
    "      df[col] = label_encoded\n",
    "   return df"
   ]
  },
  {
   "attachments": {},
   "cell_type": "markdown",
   "metadata": {},
   "source": [
    "Encode categorical features"
   ]
  },
  {
   "cell_type": "code",
   "execution_count": 357,
   "metadata": {},
   "outputs": [
    {
     "name": "stdout",
     "output_type": "stream",
     "text": [
      "['home_ownership']\n"
     ]
    },
    {
     "data": {
      "text/html": [
       "<div>\n",
       "<style scoped>\n",
       "    .dataframe tbody tr th:only-of-type {\n",
       "        vertical-align: middle;\n",
       "    }\n",
       "\n",
       "    .dataframe tbody tr th {\n",
       "        vertical-align: top;\n",
       "    }\n",
       "\n",
       "    .dataframe thead th {\n",
       "        text-align: right;\n",
       "    }\n",
       "</style>\n",
       "<table border=\"1\" class=\"dataframe\">\n",
       "  <thead>\n",
       "    <tr style=\"text-align: right;\">\n",
       "      <th></th>\n",
       "      <th>loan_amnt</th>\n",
       "      <th>home_ownership</th>\n",
       "      <th>annual_inc</th>\n",
       "      <th>int_rate</th>\n",
       "    </tr>\n",
       "  </thead>\n",
       "  <tbody>\n",
       "    <tr>\n",
       "      <th>0</th>\n",
       "      <td>5950.0</td>\n",
       "      <td>1</td>\n",
       "      <td>32000.0</td>\n",
       "      <td>19.99</td>\n",
       "    </tr>\n",
       "    <tr>\n",
       "      <th>1</th>\n",
       "      <td>4200.0</td>\n",
       "      <td>3</td>\n",
       "      <td>53000.0</td>\n",
       "      <td>19.99</td>\n",
       "    </tr>\n",
       "    <tr>\n",
       "      <th>2</th>\n",
       "      <td>10000.0</td>\n",
       "      <td>3</td>\n",
       "      <td>35000.0</td>\n",
       "      <td>12.74</td>\n",
       "    </tr>\n",
       "    <tr>\n",
       "      <th>3</th>\n",
       "      <td>10000.0</td>\n",
       "      <td>3</td>\n",
       "      <td>54000.0</td>\n",
       "      <td>14.08</td>\n",
       "    </tr>\n",
       "    <tr>\n",
       "      <th>4</th>\n",
       "      <td>15000.0</td>\n",
       "      <td>1</td>\n",
       "      <td>55000.0</td>\n",
       "      <td>11.53</td>\n",
       "    </tr>\n",
       "    <tr>\n",
       "      <th>5</th>\n",
       "      <td>30000.0</td>\n",
       "      <td>1</td>\n",
       "      <td>123996.0</td>\n",
       "      <td>17.99</td>\n",
       "    </tr>\n",
       "    <tr>\n",
       "      <th>6</th>\n",
       "      <td>15000.0</td>\n",
       "      <td>1</td>\n",
       "      <td>42000.0</td>\n",
       "      <td>16.02</td>\n",
       "    </tr>\n",
       "    <tr>\n",
       "      <th>7</th>\n",
       "      <td>12000.0</td>\n",
       "      <td>3</td>\n",
       "      <td>44000.0</td>\n",
       "      <td>8.18</td>\n",
       "    </tr>\n",
       "    <tr>\n",
       "      <th>8</th>\n",
       "      <td>25000.0</td>\n",
       "      <td>1</td>\n",
       "      <td>140000.0</td>\n",
       "      <td>18.25</td>\n",
       "    </tr>\n",
       "  </tbody>\n",
       "</table>\n",
       "</div>"
      ],
      "text/plain": [
       "   loan_amnt  home_ownership  annual_inc  int_rate\n",
       "0     5950.0               1     32000.0     19.99\n",
       "1     4200.0               3     53000.0     19.99\n",
       "2    10000.0               3     35000.0     12.74\n",
       "3    10000.0               3     54000.0     14.08\n",
       "4    15000.0               1     55000.0     11.53\n",
       "5    30000.0               1    123996.0     17.99\n",
       "6    15000.0               1     42000.0     16.02\n",
       "7    12000.0               3     44000.0      8.18\n",
       "8    25000.0               1    140000.0     18.25"
      ]
     },
     "execution_count": 357,
     "metadata": {},
     "output_type": "execute_result"
    }
   ],
   "source": [
    "acc_df_c = encode_label(acc_df.copy())\n",
    "acc_df_c.head(9)"
   ]
  },
  {
   "attachments": {},
   "cell_type": "markdown",
   "metadata": {},
   "source": [
    "Split features and label"
   ]
  },
  {
   "cell_type": "code",
   "execution_count": 358,
   "metadata": {},
   "outputs": [],
   "source": [
    "X_df = acc_df_c.drop(columns=['int_rate'])\n",
    "y_df = acc_df_c['int_rate']\n",
    "\n",
    "feature_count = len(X_df.columns)"
   ]
  },
  {
   "attachments": {},
   "cell_type": "markdown",
   "metadata": {},
   "source": [
    "Define Model explicitely as a Class"
   ]
  },
  {
   "cell_type": "code",
   "execution_count": 359,
   "metadata": {},
   "outputs": [],
   "source": [
    "class ClassModel(nn.Module):\n",
    "   def __init__(self, input_dim, output_dim):\n",
    "      super().__init__()\n",
    "      self.fc1 = nn.Linear(input_dim, 5)\n",
    "      self.relu1 = nn.ReLU()\n",
    "      self.fc2 = nn.Linear(5, 5)\n",
    "      self.relu2 = nn.ReLU()\n",
    "      self.fc3 = nn.Linear(5, 1)\n",
    "\n",
    "   def forward(self, X):\n",
    "      x = self.fc1(X)\n",
    "      x = self.relu1(x)\n",
    "      x = self.fc2(x)\n",
    "      x = self.relu2(x)\n",
    "      x = self.fc3(x)\n",
    "      return x\n",
    "   \n",
    "class_model = ClassModel(feature_count, 1)\n",
    "seq_model = nn.Sequential(\n",
    "   nn.Linear(feature_count, 5),\n",
    "   nn.Sigmoid(),\n",
    "   nn.Linear(5, 5),\n",
    "   nn.Sigmoid(),\n",
    "   nn.Linear(5, 1)\n",
    ")"
   ]
  },
  {
   "attachments": {},
   "cell_type": "markdown",
   "metadata": {},
   "source": [
    "Define training objects"
   ]
  },
  {
   "cell_type": "code",
   "execution_count": 360,
   "metadata": {},
   "outputs": [],
   "source": [
    "criterion = nn.MSELoss()\n",
    "optimizer = torch.optim.SGD(lr=.9, params=seq_model.parameters())"
   ]
  },
  {
   "attachments": {},
   "cell_type": "markdown",
   "metadata": {},
   "source": [
    "Create Tensors"
   ]
  },
  {
   "cell_type": "code",
   "execution_count": 361,
   "metadata": {},
   "outputs": [
    {
     "name": "stdout",
     "output_type": "stream",
     "text": [
      "tensor([[-0.5840, -0.9247, -0.0200],\n",
      "        [-1.0673,  1.1919, -0.4354],\n",
      "        [ 0.9198, -0.9247,  0.8829],\n",
      "        [ 0.8338,  1.1919,  0.5398],\n",
      "        [ 1.5320, -0.9247,  0.1606],\n",
      "        [ 0.0363,  1.1919, -0.5347],\n",
      "        [ 1.5642,  1.1919,  2.6887],\n",
      "        [-0.3692,  1.1919, -0.7965],\n",
      "        [-0.3692,  1.1919, -0.0200]])\n",
      "tensor([[ 1.2514],\n",
      "        [-0.0356],\n",
      "        [ 0.3608],\n",
      "        [ 1.2962],\n",
      "        [ 0.6037],\n",
      "        [ 1.6691],\n",
      "        [-1.1329],\n",
      "        [-1.3822],\n",
      "        [-0.5683]])\n",
      "Encode 20.99 = 1.669073841661105, Decode = 20.99\n"
     ]
    }
   ],
   "source": [
    "X = X_df.to_numpy()\n",
    "y = y_df.to_numpy()\n",
    "sc_x = StandardScaler()\n",
    "sc_y = StandardScaler()\n",
    "\n",
    "X_train_orig, X_test_orig, y_train_orig, y_test_orig = train_test_split(X, y, test_size=0.2)\n",
    "y_train_orig = y_train_orig.reshape(-1, 1)\n",
    "y_test_orig = y_test_orig.reshape(-1, 1)\n",
    "X_train = sc_x.fit_transform(X_train_orig)\n",
    "X_test = sc_x.transform(X_test_orig)\n",
    "y_train = sc_y.fit_transform(y_train_orig)\n",
    "y_test = sc_y.transform(y_test_orig)\n",
    "\n",
    "X_train_tsor = torch.from_numpy(X_train.astype(np.float32))\n",
    "X_test_tsor = torch.from_numpy(X_test.astype(np.float32))\n",
    "y_train_tsor = torch.from_numpy(y_train.astype(np.float32))\n",
    "y_test_tsor = torch.from_numpy(y_test.astype(np.float32))\n",
    "\n",
    "\n",
    "print(X_train_tsor[0:9])\n",
    "print(y_train_tsor[0:9])\n",
    "print(f'Encode {y_train_orig[5][0]} = {y_train[5][0]}, Decode = {sc_y.inverse_transform(y_train[5][0].reshape(-1, 1)).reshape(1)[0]}')\n"
   ]
  },
  {
   "attachments": {},
   "cell_type": "markdown",
   "metadata": {},
   "source": [
    "Train Model"
   ]
  },
  {
   "cell_type": "code",
   "execution_count": 362,
   "metadata": {},
   "outputs": [
    {
     "name": "stdout",
     "output_type": "stream",
     "text": [
      "Loss on epoch 0000: 1.0766 - interest rate: 14.4705/ 19.2400\n",
      "Loss on epoch 1000: 1.0102 - interest rate: 12.5179/ 19.2400\n",
      "Loss on epoch 2000: 0.9411 - interest rate: 12.7409/ 19.2400\n",
      "Loss on epoch 3000: 0.9810 - interest rate: 12.3944/ 19.2400\n",
      "Loss on epoch 4000: 0.9737 - interest rate: 12.5493/ 19.2400\n",
      "Loss on epoch 5000: 0.9645 - interest rate: 12.6799/ 19.2400\n",
      "Loss on epoch 6000: 0.9681 - interest rate: 12.6581/ 19.2400\n",
      "Loss on epoch 7000: 0.9680 - interest rate: 12.7135/ 19.2400\n",
      "Loss on epoch 8000: 0.9639 - interest rate: 12.9022/ 19.2400\n",
      "Loss on epoch 9000: 0.9630 - interest rate: 12.9889/ 19.2400\n"
     ]
    }
   ],
   "source": [
    "losses = []\n",
    "n_epochs = 10000\n",
    "seq_model.train()\n",
    "for n in range(n_epochs):\n",
    "   # outputs = myModel(X_train_tsor)\n",
    "   outputs = seq_model(X_train_tsor)\n",
    "   \n",
    "   loss = criterion(outputs, y_train_tsor)\n",
    "   losses.append(loss)\n",
    "   # print(loss.item())\n",
    "   if (n % (n_epochs / 10) == 0):\n",
    "      with torch.no_grad():\n",
    "         peek_output_element = 3\n",
    "         print(f'Loss on epoch ' \n",
    "               f'{n:04}: {loss.item():.4f} - '\n",
    "               f'interest rate: '\n",
    "               f'{sc_y.inverse_transform(outputs[peek_output_element].reshape(-1,1)).reshape(1).item():.4f}'\n",
    "               f'/ '\n",
    "               f'{sc_y.inverse_transform(y_train_tsor[peek_output_element].reshape(-1, 1)).reshape(1).item():.4f}')\n",
    "   loss.backward()\n",
    "   optimizer.step()\n",
    "   optimizer.zero_grad()\n"
   ]
  },
  {
   "attachments": {},
   "cell_type": "markdown",
   "metadata": {},
   "source": [
    "Validate Predictions"
   ]
  },
  {
   "cell_type": "code",
   "execution_count": 363,
   "metadata": {},
   "outputs": [
    {
     "name": "stdout",
     "output_type": "stream",
     "text": [
      "Prediction / Test [0] = [[11.3600986]] / [[16.78000002]]\n",
      "Prediction / Test [1] = [[12.01829415]] / [[12.73999999]]\n",
      "Prediction / Test [2] = [[13.88584255]] / [[14.99000003]]\n",
      "Prediction / Test [3] = [[13.06383478]] / [[12.39000003]]\n",
      "Prediction / Test [4] = [[11.40371773]] / [[5.31999987]]\n",
      "Prediction / Test [5] = [[14.27816445]] / [[18.06000021]]\n",
      "Prediction / Test [6] = [[10.33655536]] / [[13.98999998]]\n",
      "Prediction / Test [7] = [[10.88002164]] / [[11.39000005]]\n",
      "Prediction / Test [8] = [[10.66742886]] / [[10.98999998]]\n",
      "Prediction / Test [9] = [[12.04056876]] / [[16.54999993]]\n"
     ]
    },
    {
     "data": {
      "image/png": "[encoded data removed]",
      "text/plain": [
       "<Figure size 640x480 with 1 Axes>"
      ]
     },
     "metadata": {},
     "output_type": "display_data"
    }
   ],
   "source": [
    "with torch.no_grad():\n",
    "   seq_model.eval()\n",
    "   preds = seq_model(X_test_tsor)\n",
    "   X_test_feat_0 = X_test[2:, 0:1].reshape(-1)\n",
    "   preds_decoded = sc_y.inverse_transform(preds)\n",
    "   y_test_tsor_decoded = sc_y.inverse_transform(y_test_tsor)\n",
    "   for i in range(0, 10):\n",
    "      print(f'Prediction / Test [{i}] = '\n",
    "            f'{preds_decoded[i].reshape(-1, 1)} / '\n",
    "            f'{y_test_tsor_decoded[i].reshape(-1, 1)}')\n",
    "   plt.cla()\n",
    "   plt.plot(preds_decoded)\n",
    "   plt.plot(y_test_tsor_decoded)\n",
    "   # plt.scatter(X_test_feat_0[0:10], y_test[0:10])\n",
    "   # plt.scatter(X_test_feat_0[0:10], preds[0:10])\n"
   ]
  }
 ],
 "metadata": {
  "kernelspec": {
   "display_name": "Python 3",
   "language": "python",
   "name": "python3"
  },
  "language_info": {
   "codemirror_mode": {
    "name": "ipython",
    "version": 3
   },
   "file_extension": ".py",
   "mimetype": "text/x-python",
   "name": "python",
   "nbconvert_exporter": "python",
   "pygments_lexer": "ipython3",
   "version": "3.9.16"
  },
  "orig_nbformat": 4
 },
 "nbformat": 4,
 "nbformat_minor": 2
}
