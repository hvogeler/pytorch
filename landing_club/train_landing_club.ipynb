{
 "cells": [
  {
   "cell_type": "code",
   "execution_count": 118,
   "metadata": {},
   "outputs": [],
   "source": [
    "import pandas as pd\n",
    "from pandas import DataFrame\n",
    "import torch\n",
    "import torch.nn as nn\n",
    "from torch.utils.data import Dataset, dataloader\n",
    "import numpy as np\n",
    "from sklearn.model_selection import train_test_split\n",
    "from sklearn.preprocessing import StandardScaler\n",
    "from sklearn.preprocessing import OneHotEncoder\n",
    "from sklearn.preprocessing import LabelEncoder\n",
    "from sklearn.preprocessing import LabelBinarizer\n",
    "import torch.onnx\n",
    "import matplotlib.pyplot as plt\n",
    "import pickle as p\n",
    "from landing_club_wrapper import LandingClubWrapper\n",
    "\n",
    "pd.options.display.max_rows=999"
   ]
  },
  {
   "cell_type": "code",
   "execution_count": 119,
   "metadata": {},
   "outputs": [],
   "source": [
    "FULL_DATASET_NAME = 'data/landing_club/accepted_2007_to_2018Q4.csv'\n",
    "SMALL_SAMPLE_DATASET_NAME = 'data/landing_club/accepted_2007_to_2018Q4_small_sample.csv'\n",
    "SMALL_HEAD_DATASET_NAME = 'data/landing_club/accepted_2007_to_2018Q4_small_head.csv'"
   ]
  },
  {
   "attachments": {},
   "cell_type": "markdown",
   "metadata": {},
   "source": [
    "Sample a few records for faster work"
   ]
  },
  {
   "cell_type": "code",
   "execution_count": 120,
   "metadata": {},
   "outputs": [],
   "source": [
    "# Make small dataset\n",
    "# col_names = ['loan_amnt', 'home_ownership', 'annual_inc', 'purpose', 'addr_state', 'term', 'emp_length', 'int_rate']\n",
    "# col_names = ['loan_amnt', 'home_ownership', 'annual_inc','term', 'emp_length', 'int_rate']\n",
    "COL_NAMES = ['loan_amnt', 'home_ownership', 'annual_inc', 'int_rate']\n",
    "FEATURE_NAMES = ['loan_amnt', 'home_ownership', 'annual_inc']\n",
    "LABEL_NAME = 'int_rate'\n",
    "record_count = 1000\n",
    "# acc_raw_df = pd.read_csv(FULL_DATASET_NAME)\n",
    "# acc_raw_df.sample(record_count).to_csv(SMALL_SAMPLE_DATASET_NAME, columns=col_names)\n",
    "# acc_raw_df.head(record_count).to_csv(SMALL_HEAD_DATASET_NAME, columns=col_names)"
   ]
  },
  {
   "attachments": {},
   "cell_type": "markdown",
   "metadata": {},
   "source": [
    "## Data Preparation\n",
    "Training and validation data preparation is combined in this class"
   ]
  },
  {
   "cell_type": "code",
   "execution_count": 121,
   "metadata": {},
   "outputs": [],
   "source": [
    "\n",
    "class Landing_Club_Dataset(Dataset):\n",
    "    def __init__(self, file_path: str, col_label, col_names = []):\n",
    "        self.sc_x = StandardScaler()\n",
    "        self.sc_y = StandardScaler()\n",
    "        self.label_enc = LabelEncoder()\n",
    "        self.file_path = file_path\n",
    "        self.col_label = col_label\n",
    "        self.col_names = col_names\n",
    "        self.read_and_preprocess_datafile()\n",
    "        \n",
    "    def read_and_preprocess_datafile(self):\n",
    "        self.df = pd.read_csv(self.file_path, usecols = self.col_names)\n",
    "        self.clean()\n",
    "        self.split_features_and_labels() # split feature columns and label column\n",
    "        self.encode_categorical_columns()\n",
    "        self.split_train_test_and_standardize(test_size=.2)\n",
    "        self.to_tensor()\n",
    "        self.wrapper = LandingClubWrapper(self.sc_x, self.sc_y, self.label_enc)\n",
    "        self.write_model_wrapper()\n",
    "            \n",
    "    def __get_item__(self, index: int):\n",
    "        return (self.X_tsor[index], self.y_tsor[index])\n",
    "    \n",
    "    def __len__(self):\n",
    "        return len(self.df)\n",
    "    \n",
    "    def to_numpy(self):\n",
    "        return self.df.to_numpy()\n",
    "    \n",
    "    def to_tensor(self, with_grad=False):\n",
    "        self.X_tsor = torch.tensor(DataFrame.to_numpy(self.X_df), requires_grad=with_grad)\n",
    "        self.y_tsor = torch.tensor(self.y_df, requires_grad=with_grad)\n",
    "    \n",
    "    def clean(self):\n",
    "        self.df.dropna(inplace=True)\n",
    "        return\n",
    "    \n",
    "    def encode_categorical_columns(self):\n",
    "        categorical_cols = list(self.X_df.select_dtypes(include=['object']))\n",
    "        for col in categorical_cols:\n",
    "            label_encoded = self.label_enc.fit_transform(self.X_df[col])\n",
    "            self.X_df[col] = label_encoded\n",
    "\n",
    "    def split_features_and_labels(self):\n",
    "        self.X_df = self.df.drop(columns=[self.col_label])\n",
    "        self.y_df = self.df[self.col_label]\n",
    "\n",
    "    def split_train_test_and_standardize(self, test_size):\n",
    "        X_train_orig, X_test_orig, y_train_orig, y_test_orig = \\\n",
    "            train_test_split(self.X_df.values, self.y_df.values, test_size=test_size, shuffle=False)\n",
    "\n",
    "        y_train_orig = y_train_orig.reshape(-1, 1)\n",
    "        y_test_orig = y_test_orig.reshape(-1, 1)\n",
    "\n",
    "        self.X_train = LandingClubWrapper.standardize(self.sc_x, X_train_orig, True)\n",
    "        self.X_test = LandingClubWrapper.standardize(self.sc_x, X_test_orig, False)\n",
    "        self.y_train = LandingClubWrapper.standardize(self.sc_y, y_train_orig, True)\n",
    "        self.y_test = LandingClubWrapper.standardize(self.sc_y, y_test_orig, False)\n",
    "\n",
    "    def get_train_dataset(self):\n",
    "        X_train_tsor = torch.from_numpy(self.X_train.astype(np.float32))\n",
    "        y_train_tsor = torch.from_numpy(self.y_train.astype(np.float32))\n",
    "        return (X_train_tsor, y_train_tsor)\n",
    "\n",
    "    def get_test_dataset(self):\n",
    "        X_test_tsor = torch.from_numpy(self.X_test.astype(np.float32))\n",
    "        y_test_tsor = torch.from_numpy(self.y_test.astype(np.float32))\n",
    "        return (X_test_tsor, y_test_tsor)\n",
    "\n",
    "    def write_model_wrapper(self):    \n",
    "        wrapper_file = open('landing_club_wrapper.pickle', 'wb')\n",
    "        p.dump(self.wrapper, wrapper_file)\n",
    "        wrapper_file.close()\n",
    "    "
   ]
  },
  {
   "cell_type": "code",
   "execution_count": 122,
   "metadata": {},
   "outputs": [
    {
     "name": "stdout",
     "output_type": "stream",
     "text": [
      "scaler x-mean = [1.56178125e+04 7.42500000e-01 8.04752829e+04]\n",
      "scaler y-mean = [12.06955]\n",
      "--- [-1.3893650448459347, 1.3940472808066202, -0.9487243604900134]\n",
      "y_hat = 8.613235796921813\n"
     ]
    }
   ],
   "source": [
    "dataset = Landing_Club_Dataset(SMALL_HEAD_DATASET_NAME, LABEL_NAME, COL_NAMES)\n",
    "\n",
    "print(f'scaler x-mean = {dataset.sc_x.mean_}')\n",
    "print(f'scaler y-mean = {dataset.sc_y.mean_}')\n",
    "\n",
    "feature_list = [3600.0, 'RENT', 40000.0]\n",
    "prepared_features = dataset.wrapper.preprocess(*feature_list)\n",
    "print(f'--- {prepared_features}')\n",
    "post_y = dataset.wrapper.postprocess(-0.8)\n",
    "print(f'y_hat = {post_y}')\n"
   ]
  },
  {
   "cell_type": "code",
   "execution_count": 123,
   "metadata": {},
   "outputs": [],
   "source": [
    "feature_count = len(dataset.X_df.columns)\n",
    "\n",
    "class ClassModel(nn.Module):\n",
    "    def __init__(self, input_dim, output_dim):\n",
    "        super().__init__()\n",
    "        self.fc1 = nn.Linear(input_dim, 5)\n",
    "        self.relu1 = nn.ReLU()\n",
    "        self.fc2 = nn.Linear(5, 5)\n",
    "        self.relu2 = nn.ReLU()\n",
    "        self.fc3 = nn.Linear(5, 1)\n",
    "\n",
    "    def forward(self, X):\n",
    "        x = self.fc1(X)\n",
    "        x = self.relu1(x)\n",
    "        x = self.fc2(x)\n",
    "        x = self.relu2(x)\n",
    "        x = self.fc3(x)\n",
    "        return x\n",
    "\n",
    "_class_model = ClassModel(feature_count, 1)\n",
    "_seq_model = nn.Sequential(\n",
    "    nn.Linear(feature_count, 3),\n",
    "    nn.Sigmoid(),\n",
    "    nn.Linear(3, 3),\n",
    "    nn.Sigmoid(),\n",
    "    nn.Linear(3, 1)\n",
    ")\n",
    "\n",
    "model = _seq_model"
   ]
  },
  {
   "attachments": {},
   "cell_type": "markdown",
   "metadata": {},
   "source": [
    "Define Model explicitely as a Class"
   ]
  },
  {
   "attachments": {},
   "cell_type": "markdown",
   "metadata": {},
   "source": []
  },
  {
   "attachments": {},
   "cell_type": "markdown",
   "metadata": {},
   "source": [
    "Define training objects"
   ]
  },
  {
   "cell_type": "code",
   "execution_count": 124,
   "metadata": {},
   "outputs": [],
   "source": [
    "criterion = nn.MSELoss()\n",
    "optimizer = torch.optim.SGD(lr=.6, params=model.parameters())"
   ]
  },
  {
   "attachments": {},
   "cell_type": "markdown",
   "metadata": {},
   "source": [
    "Create Tensors"
   ]
  },
  {
   "cell_type": "code",
   "execution_count": 125,
   "metadata": {},
   "outputs": [
    {
     "name": "stdout",
     "output_type": "stream",
     "text": [
      "Loss on epoch 0000: 1.0020 - interest rate: 13.0305/ 14.0800\n",
      "Loss on epoch 0300: 0.9743 - interest rate: 13.4954/ 14.0800\n",
      "Loss on epoch 0600: 0.9384 - interest rate: 13.4586/ 14.0800\n",
      "Loss on epoch 0900: 0.9287 - interest rate: 13.1701/ 14.0800\n",
      "Loss on epoch 0000: 0.9276 - interest rate: 13.0469/ 14.0800\n",
      "Loss on epoch 0300: 0.9359 - interest rate: 12.5113/ 14.0800\n",
      "Loss on epoch 0600: 0.9272 - interest rate: 12.5136/ 14.0800\n",
      "Loss on epoch 0900: 0.9219 - interest rate: 12.5422/ 14.0800\n",
      "Loss on epoch 0000: 0.9208 - interest rate: 12.5482/ 14.0800\n",
      "Loss on epoch 0300: 0.9180 - interest rate: 12.5813/ 14.0800\n",
      "Loss on epoch 0600: 0.9161 - interest rate: 12.6094/ 14.0800\n",
      "Loss on epoch 0900: 0.9148 - interest rate: 12.6343/ 14.0800\n",
      "Loss on epoch 0000: 0.9144 - interest rate: 12.6419/ 14.0800\n",
      "Loss on epoch 0300: 0.9133 - interest rate: 12.6634/ 14.0800\n",
      "Loss on epoch 0600: 0.9124 - interest rate: 12.6835/ 14.0800\n",
      "Loss on epoch 0900: 0.9116 - interest rate: 12.7027/ 14.0800\n",
      "Loss on epoch 0000: 0.9114 - interest rate: 12.7089/ 14.0800\n",
      "Loss on epoch 0300: 0.9106 - interest rate: 12.7276/ 14.0800\n",
      "Loss on epoch 0600: 0.9099 - interest rate: 12.7461/ 14.0800\n",
      "Loss on epoch 0900: 0.9092 - interest rate: 12.7645/ 14.0800\n",
      "Loss on epoch 0000: 0.9089 - interest rate: 12.7704/ 14.0800\n",
      "Loss on epoch 0300: 0.9081 - interest rate: 12.7853/ 14.0800\n",
      "Loss on epoch 0600: 0.9070 - interest rate: 12.7934/ 14.0800\n",
      "Loss on epoch 0900: 0.9038 - interest rate: 12.8663/ 14.0800\n",
      "Loss on epoch 0000: 0.9025 - interest rate: 12.8950/ 14.0800\n",
      "Loss on epoch 0300: 0.9007 - interest rate: 12.9048/ 14.0800\n",
      "Loss on epoch 0600: 0.8990 - interest rate: 12.9409/ 14.0800\n",
      "Loss on epoch 0900: 0.8976 - interest rate: 12.9825/ 14.0800\n",
      "Loss on epoch 0000: 0.8973 - interest rate: 12.9948/ 14.0800\n",
      "Loss on epoch 0300: 0.8965 - interest rate: 13.0246/ 14.0800\n",
      "Loss on epoch 0600: 0.8960 - interest rate: 13.0448/ 14.0800\n",
      "Loss on epoch 0900: 0.8956 - interest rate: 13.0577/ 14.0800\n",
      "Loss on epoch 0000: 0.8955 - interest rate: 13.0608/ 14.0800\n",
      "Loss on epoch 0300: 0.8952 - interest rate: 13.0681/ 14.0800\n",
      "Loss on epoch 0600: 0.8948 - interest rate: 13.0744/ 14.0800\n",
      "Loss on epoch 0900: 0.8944 - interest rate: 13.0826/ 14.0800\n",
      "Loss on epoch 0000: 0.8942 - interest rate: 13.0862/ 14.0800\n",
      "Loss on epoch 0300: 0.8937 - interest rate: 13.1008/ 14.0800\n",
      "Loss on epoch 0600: 0.8930 - interest rate: 13.1231/ 14.0800\n",
      "Loss on epoch 0900: 0.8923 - interest rate: 13.1560/ 14.0800\n",
      "Loss on epoch 0000: 0.8920 - interest rate: 13.1695/ 14.0800\n",
      "Loss on epoch 0300: 0.8914 - interest rate: 13.2115/ 14.0800\n",
      "Loss on epoch 0600: 0.8908 - interest rate: 13.2295/ 14.0800\n",
      "Loss on epoch 0900: 0.8904 - interest rate: 13.2302/ 14.0800\n",
      "Loss on epoch 0000: 0.8902 - interest rate: 13.2301/ 14.0800\n",
      "Loss on epoch 0300: 0.8897 - interest rate: 13.2294/ 14.0800\n",
      "Loss on epoch 0600: 0.8893 - interest rate: 13.2284/ 14.0800\n",
      "Loss on epoch 0900: 0.8889 - interest rate: 13.2272/ 14.0800\n",
      "Loss on epoch 0000: 0.8888 - interest rate: 13.2267/ 14.0800\n",
      "Loss on epoch 0300: 0.8884 - interest rate: 13.2253/ 14.0800\n",
      "Loss on epoch 0600: 0.8880 - interest rate: 13.2238/ 14.0800\n",
      "Loss on epoch 0900: 0.8877 - interest rate: 13.2223/ 14.0800\n",
      "Loss on epoch 0000: 0.8876 - interest rate: 13.2219/ 14.0800\n",
      "Loss on epoch 0300: 0.8873 - interest rate: 13.2204/ 14.0800\n",
      "Loss on epoch 0600: 0.8870 - interest rate: 13.2191/ 14.0800\n",
      "Loss on epoch 0900: 0.8868 - interest rate: 13.2179/ 14.0800\n",
      "Loss on epoch 0000: 0.8867 - interest rate: 13.2176/ 14.0800\n",
      "Loss on epoch 0300: 0.8864 - interest rate: 13.2165/ 14.0800\n",
      "Loss on epoch 0600: 0.8862 - interest rate: 13.2156/ 14.0800\n",
      "Loss on epoch 0900: 0.8860 - interest rate: 13.2149/ 14.0800\n",
      "Loss on epoch 0000: 0.8859 - interest rate: 13.2147/ 14.0800\n",
      "Loss on epoch 0300: 0.8857 - interest rate: 13.2141/ 14.0800\n",
      "Loss on epoch 0600: 0.8855 - interest rate: 13.2137/ 14.0800\n",
      "Loss on epoch 0900: 0.8853 - interest rate: 13.2135/ 14.0800\n",
      "Loss on epoch 0000: 0.8852 - interest rate: 13.2134/ 14.0800\n",
      "Loss on epoch 0300: 0.8851 - interest rate: 13.2134/ 14.0800\n",
      "Loss on epoch 0600: 0.8849 - interest rate: 13.2135/ 14.0800\n",
      "Loss on epoch 0900: 0.8847 - interest rate: 13.2137/ 14.0800\n",
      "Loss on epoch 0000: 0.8847 - interest rate: 13.2138/ 14.0800\n",
      "Loss on epoch 0300: 0.8845 - interest rate: 13.2141/ 14.0800\n",
      "Loss on epoch 0600: 0.8843 - interest rate: 13.2145/ 14.0800\n",
      "Loss on epoch 0900: 0.8842 - interest rate: 13.2150/ 14.0800\n",
      "Loss on epoch 0000: 0.8841 - interest rate: 13.2152/ 14.0800\n",
      "Loss on epoch 0300: 0.8840 - interest rate: 13.2157/ 14.0800\n",
      "Loss on epoch 0600: 0.8838 - interest rate: 13.2163/ 14.0800\n",
      "Loss on epoch 0900: 0.8837 - interest rate: 13.2168/ 14.0800\n",
      "Loss on epoch 0000: 0.8836 - interest rate: 13.2169/ 14.0800\n",
      "Loss on epoch 0300: 0.8835 - interest rate: 13.2174/ 14.0800\n",
      "Loss on epoch 0600: 0.8834 - interest rate: 13.2178/ 14.0800\n",
      "Loss on epoch 0900: 0.8832 - interest rate: 13.2181/ 14.0800\n"
     ]
    }
   ],
   "source": [
    "for i in range(20):\n",
    "    dataset = Landing_Club_Dataset(SMALL_SAMPLE_DATASET_NAME, LABEL_NAME, COL_NAMES)\n",
    "\n",
    "    (X_train_tsor, y_train_tsor) = dataset.get_train_dataset()\n",
    "    (X_test_tsor, y_test_tsor) = dataset.get_test_dataset()\n",
    "\n",
    "    # print(X_train_tsor[0:4])\n",
    "    # print(y_train_tsor[0:4])\n",
    "\n",
    "    losses = []\n",
    "    n_epochs = 1000\n",
    "    model.train()\n",
    "    for n in range(n_epochs):\n",
    "        # outputs = myModel(X_train_tsor)\n",
    "        outputs = model(X_train_tsor)\n",
    "\n",
    "        loss = criterion(outputs, y_train_tsor)\n",
    "        losses.append(loss)\n",
    "        if (n % (300) == 0):\n",
    "            with torch.no_grad():\n",
    "                peek_output_element = 3\n",
    "                print(f'Loss on epoch '\n",
    "                    f'{n:04}: {loss.item():.4f} - '\n",
    "                    f'interest rate: '\n",
    "                    f'{dataset.sc_y.inverse_transform(outputs[peek_output_element].reshape(-1,1)).reshape(1).item():.4f}'\n",
    "                    f'/ '\n",
    "                    f'{dataset.sc_y.inverse_transform(y_train_tsor[peek_output_element].reshape(-1, 1)).reshape(1).item():.4f}'\n",
    "                )\n",
    "        loss.backward()\n",
    "        optimizer.step()\n",
    "        optimizer.zero_grad()\n"
   ]
  },
  {
   "attachments": {},
   "cell_type": "markdown",
   "metadata": {},
   "source": [
    "Validate Predictions"
   ]
  },
  {
   "cell_type": "code",
   "execution_count": 126,
   "metadata": {},
   "outputs": [
    {
     "name": "stdout",
     "output_type": "stream",
     "text": [
      "Prediction / Test [0] = [[13.85879062]] / [[13.59]]\n",
      "Prediction / Test [1] = [[16.51298474]] / [[17.98999993]]\n",
      "Prediction / Test [2] = [[15.30251568]] / [[16.00999996]]\n",
      "Prediction / Test [3] = [[11.48599481]] / [[8.89999997]]\n",
      "Prediction / Test [4] = [[11.47823695]] / [[12.69]]\n",
      "Prediction / Test [5] = [[13.92280854]] / [[7.21000008]]\n",
      "Prediction / Test [6] = [[14.14833701]] / [[23.40000035]]\n",
      "Prediction / Test [7] = [[13.23773779]] / [[11.49000003]]\n",
      "Prediction / Test [8] = [[13.07567381]] / [[6.02999979]]\n",
      "Prediction / Test [9] = [[13.66774708]] / [[16.99000012]]\n"
     ]
    },
    {
     "data": {
      "image/png": "[encoded data removed]",
      "text/plain": [
       "<Figure size 640x480 with 1 Axes>"
      ]
     },
     "metadata": {},
     "output_type": "display_data"
    }
   ],
   "source": [
    "with torch.no_grad():\n",
    "    model.eval()\n",
    "    \n",
    "    preds = model.forward(X_test_tsor)\n",
    "    # X_test_feat_0 = X_test[2:, 0:1].reshape(-1)\n",
    "    preds_decoded = dataset.sc_y.inverse_transform(preds)\n",
    "    y_test_tsor_decoded = dataset.sc_y.inverse_transform(y_test_tsor)\n",
    "    for i in range(0, 10):\n",
    "        print(f'Prediction / Test [{i}] = '\n",
    "              f'{preds_decoded[i].reshape(-1, 1)} / '\n",
    "              f'{y_test_tsor_decoded[i].reshape(-1, 1)}')\n",
    "    plt.cla()\n",
    "    plt.plot(preds_decoded[0:50], label='Predictions')\n",
    "    plt.plot(y_test_tsor_decoded[0:50], label='Labels')\n",
    "    plt.legend()\n"
   ]
  },
  {
   "attachments": {},
   "cell_type": "markdown",
   "metadata": {},
   "source": [
    "Export ONNX Model"
   ]
  },
  {
   "cell_type": "code",
   "execution_count": 127,
   "metadata": {},
   "outputs": [],
   "source": [
    "model.eval()\n",
    "_dummy_input = torch.tensor([[0.1, 0.1, 0.1]])\n",
    "torch.onnx.export(model, \n",
    "                  _dummy_input, \n",
    "                  \"landing_club_model.onnx\",\n",
    "                  verbose=False,\n",
    "                  input_names=[\"features\"],\n",
    "                  output_names=[\"prediction\"],\n",
    "                  export_params=True)\n"
   ]
  },
  {
   "attachments": {},
   "cell_type": "markdown",
   "metadata": {},
   "source": [
    "Test Wrapper"
   ]
  }
 ],
 "metadata": {
  "kernelspec": {
   "display_name": "Python 3",
   "language": "python",
   "name": "python3"
  },
  "language_info": {
   "codemirror_mode": {
    "name": "ipython",
    "version": 3
   },
   "file_extension": ".py",
   "mimetype": "text/x-python",
   "name": "python",
   "nbconvert_exporter": "python",
   "pygments_lexer": "ipython3",
   "version": "3.10.9"
  },
  "orig_nbformat": 4
 },
 "nbformat": 4,
 "nbformat_minor": 2
}
