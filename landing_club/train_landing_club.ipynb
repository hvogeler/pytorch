{
 "cells": [
  {
   "cell_type": "code",
   "execution_count": 1,
   "metadata": {},
   "outputs": [],
   "source": [
    "import pandas as pd\n",
    "from pandas import DataFrame\n",
    "import torch\n",
    "import torch.nn as nn\n",
    "from torch.utils.data import Dataset, dataloader\n",
    "import numpy as np\n",
    "from sklearn.model_selection import train_test_split\n",
    "from sklearn.preprocessing import StandardScaler\n",
    "from sklearn.preprocessing import OneHotEncoder\n",
    "from sklearn.preprocessing import LabelEncoder\n",
    "from sklearn.preprocessing import LabelBinarizer\n",
    "import torch.onnx\n",
    "import matplotlib.pyplot as plt\n",
    "import pickle as p\n",
    "from landing_club_wrapper import LandingClubWrapper\n",
    "\n",
    "pd.options.display.max_rows=999"
   ]
  },
  {
   "cell_type": "code",
   "execution_count": 2,
   "metadata": {},
   "outputs": [],
   "source": [
    "FULL_DATASET_NAME = 'data/landing_club/accepted_2007_to_2018Q4.csv'\n",
    "SMALL_SAMPLE_DATASET_NAME = 'data/landing_club/accepted_2007_to_2018Q4_small_sample.csv'\n",
    "SMALL_HEAD_DATASET_NAME = 'data/landing_club/accepted_2007_to_2018Q4_small_head.csv'"
   ]
  },
  {
   "attachments": {},
   "cell_type": "markdown",
   "metadata": {},
   "source": [
    "Sample a few records for faster work"
   ]
  },
  {
   "cell_type": "code",
   "execution_count": 3,
   "metadata": {},
   "outputs": [],
   "source": [
    "# Make small dataset\n",
    "# col_names = ['loan_amnt', 'home_ownership', 'annual_inc', 'purpose', 'addr_state', 'term', 'emp_length', 'int_rate']\n",
    "# col_names = ['loan_amnt', 'home_ownership', 'annual_inc','term', 'emp_length', 'int_rate']\n",
    "COL_NAMES = ['loan_amnt', 'home_ownership', 'annual_inc', 'int_rate']\n",
    "FEATURE_NAMES = ['loan_amnt', 'home_ownership', 'annual_inc']\n",
    "LABEL_NAME = 'int_rate'\n",
    "record_count = 1000\n",
    "# acc_raw_df = pd.read_csv(FULL_DATASET_NAME)\n",
    "# acc_raw_df.sample(record_count).to_csv(SMALL_SAMPLE_DATASET_NAME, columns=col_names)\n",
    "# acc_raw_df.head(record_count).to_csv(SMALL_HEAD_DATASET_NAME, columns=col_names)"
   ]
  },
  {
   "attachments": {},
   "cell_type": "markdown",
   "metadata": {},
   "source": [
    "## Data Preparation\n",
    "Training and validation data preparation is combined in this class"
   ]
  },
  {
   "cell_type": "code",
   "execution_count": 4,
   "metadata": {},
   "outputs": [],
   "source": [
    "\n",
    "class Landing_Club_Dataset(Dataset):\n",
    "    def __init__(self, file_path: str, col_label, col_names = []):\n",
    "        self.sc_x = StandardScaler()\n",
    "        self.sc_y = StandardScaler()\n",
    "        self.label_enc = LabelEncoder()\n",
    "        self.file_path = file_path\n",
    "        self.col_label = col_label\n",
    "        self.col_names = col_names\n",
    "        self.read_and_preprocess_datafile()\n",
    "        \n",
    "    def read_and_preprocess_datafile(self):\n",
    "        self.df = pd.read_csv(self.file_path, usecols = self.col_names)\n",
    "        self.clean()\n",
    "        self.split_features_and_labels() # split feature columns and label column\n",
    "        self.encode_categorical_columns()\n",
    "        self.split_train_test_and_standardize(test_size=.2)\n",
    "        self.to_tensor()\n",
    "        self.wrapper = LandingClubWrapper(self.sc_x, self.sc_y, self.label_enc)\n",
    "        self.write_model_wrapper()\n",
    "            \n",
    "    def __get_item__(self, index: int):\n",
    "        return (self.X_tsor[index], self.y_tsor[index])\n",
    "    \n",
    "    def __len__(self):\n",
    "        return len(self.df)\n",
    "    \n",
    "    def to_numpy(self):\n",
    "        return self.df.to_numpy()\n",
    "    \n",
    "    def to_tensor(self, with_grad=False):\n",
    "        self.X_tsor = torch.tensor(DataFrame.to_numpy(self.X_df), requires_grad=with_grad)\n",
    "        self.y_tsor = torch.tensor(self.y_df, requires_grad=with_grad)\n",
    "    \n",
    "    def clean(self):\n",
    "        self.df.dropna(inplace=True)\n",
    "        return\n",
    "    \n",
    "    def encode_categorical_columns(self):\n",
    "        categorical_cols = list(self.X_df.select_dtypes(include=['object']))\n",
    "        for col in categorical_cols:\n",
    "            label_encoded = self.label_enc.fit_transform(self.X_df[col])\n",
    "            self.X_df[col] = label_encoded\n",
    "\n",
    "    def split_features_and_labels(self):\n",
    "        self.X_df = self.df.drop(columns=[self.col_label])\n",
    "        self.y_df = self.df[self.col_label]\n",
    "\n",
    "    def split_train_test_and_standardize(self, test_size):\n",
    "        X_train_orig, X_test_orig, y_train_orig, y_test_orig = \\\n",
    "            train_test_split(self.X_df.values, self.y_df.values, test_size=test_size, shuffle=False)\n",
    "\n",
    "        y_train_orig = y_train_orig.reshape(-1, 1)\n",
    "        y_test_orig = y_test_orig.reshape(-1, 1)\n",
    "\n",
    "        self.X_train = LandingClubWrapper.standardize(self.sc_x, X_train_orig, True)\n",
    "        self.X_test = LandingClubWrapper.standardize(self.sc_x, X_test_orig, False)\n",
    "        self.y_train = LandingClubWrapper.standardize(self.sc_y, y_train_orig, True)\n",
    "        self.y_test = LandingClubWrapper.standardize(self.sc_y, y_test_orig, False)\n",
    "\n",
    "    def get_train_dataset(self):\n",
    "        X_train_tsor = torch.from_numpy(self.X_train.astype(np.float32))\n",
    "        y_train_tsor = torch.from_numpy(self.y_train.astype(np.float32))\n",
    "        return (X_train_tsor, y_train_tsor)\n",
    "\n",
    "    def get_test_dataset(self):\n",
    "        X_test_tsor = torch.from_numpy(self.X_test.astype(np.float32))\n",
    "        y_test_tsor = torch.from_numpy(self.y_test.astype(np.float32))\n",
    "        return (X_test_tsor, y_test_tsor)\n",
    "\n",
    "    def write_model_wrapper(self):    \n",
    "        wrapper_file = open('landing_club_wrapper.pickle', 'wb')\n",
    "        p.dump(self.wrapper, wrapper_file)\n",
    "        wrapper_file.close()\n",
    "    "
   ]
  },
  {
   "cell_type": "code",
   "execution_count": 5,
   "metadata": {},
   "outputs": [
    {
     "name": "stdout",
     "output_type": "stream",
     "text": [
      "scaler x-mean = [1.56178125e+04 7.42500000e-01 8.04752829e+04]\n",
      "scaler y-mean = [12.06955]\n",
      "--- [-1.3893650448459347, 1.3940472808066202, -0.9487243604900134]\n",
      "y_hat = 8.613235796921813\n"
     ]
    }
   ],
   "source": [
    "dataset = Landing_Club_Dataset(SMALL_HEAD_DATASET_NAME, LABEL_NAME, COL_NAMES)\n",
    "\n",
    "print(f'scaler x-mean = {dataset.sc_x.mean_}')\n",
    "print(f'scaler y-mean = {dataset.sc_y.mean_}')\n",
    "\n",
    "feature_list = [3600.0, 'RENT', 40000.0]\n",
    "prepared_features = dataset.wrapper.preprocess(*feature_list)\n",
    "print(f'--- {prepared_features}')\n",
    "post_y = dataset.wrapper.postprocess(-0.8)\n",
    "print(f'y_hat = {post_y}')\n"
   ]
  },
  {
   "cell_type": "code",
   "execution_count": 6,
   "metadata": {},
   "outputs": [],
   "source": [
    "feature_count = len(dataset.X_df.columns)\n",
    "\n",
    "class ClassModel(nn.Module):\n",
    "    def __init__(self, input_dim, output_dim):\n",
    "        super().__init__()\n",
    "        self.fc1 = nn.Linear(input_dim, 5)\n",
    "        self.relu1 = nn.ReLU()\n",
    "        self.fc2 = nn.Linear(5, 5)\n",
    "        self.relu2 = nn.ReLU()\n",
    "        self.fc3 = nn.Linear(5, 1)\n",
    "\n",
    "    def forward(self, X):\n",
    "        x = self.fc1(X)\n",
    "        x = self.relu1(x)\n",
    "        x = self.fc2(x)\n",
    "        x = self.relu2(x)\n",
    "        x = self.fc3(x)\n",
    "        return x\n",
    "\n",
    "_class_model = ClassModel(feature_count, 1)\n",
    "_seq_model = nn.Sequential(\n",
    "    nn.Linear(feature_count, 3),\n",
    "    nn.Sigmoid(),\n",
    "    nn.Linear(3, 3),\n",
    "    nn.Sigmoid(),\n",
    "    nn.Linear(3, 1)\n",
    ")\n",
    "\n",
    "model = _seq_model"
   ]
  },
  {
   "attachments": {},
   "cell_type": "markdown",
   "metadata": {},
   "source": [
    "Define Model explicitely as a Class"
   ]
  },
  {
   "attachments": {},
   "cell_type": "markdown",
   "metadata": {},
   "source": []
  },
  {
   "attachments": {},
   "cell_type": "markdown",
   "metadata": {},
   "source": [
    "Define training objects"
   ]
  },
  {
   "cell_type": "code",
   "execution_count": 7,
   "metadata": {},
   "outputs": [],
   "source": [
    "criterion = nn.MSELoss()\n",
    "optimizer = torch.optim.SGD(lr=.6, params=model.parameters())"
   ]
  },
  {
   "attachments": {},
   "cell_type": "markdown",
   "metadata": {},
   "source": [
    "Create Tensors"
   ]
  },
  {
   "cell_type": "code",
   "execution_count": 8,
   "metadata": {},
   "outputs": [
    {
     "name": "stdout",
     "output_type": "stream",
     "text": [
      "Loss on epoch 0000: 1.0178 - interest rate: 13.9907/ 14.0800\n",
      "Loss on epoch 0300: 0.9425 - interest rate: 13.5017/ 14.0800\n",
      "Loss on epoch 0600: 0.9332 - interest rate: 13.2929/ 14.0800\n",
      "Loss on epoch 0900: 0.9228 - interest rate: 13.0966/ 14.0800\n",
      "Loss on epoch 0000: 0.9204 - interest rate: 13.0687/ 14.0800\n",
      "Loss on epoch 0300: 0.9153 - interest rate: 13.0000/ 14.0800\n",
      "Loss on epoch 0600: 0.9133 - interest rate: 12.9484/ 14.0800\n",
      "Loss on epoch 0900: 0.9125 - interest rate: 12.9166/ 14.0800\n",
      "Loss on epoch 0000: 0.9123 - interest rate: 12.9101/ 14.0800\n",
      "Loss on epoch 0300: 0.9119 - interest rate: 12.8899/ 14.0800\n",
      "Loss on epoch 0600: 0.9116 - interest rate: 12.8759/ 14.0800\n",
      "Loss on epoch 0900: 0.9112 - interest rate: 12.8673/ 14.0800\n",
      "Loss on epoch 0000: 0.9110 - interest rate: 12.8653/ 14.0800\n",
      "Loss on epoch 0300: 0.9106 - interest rate: 12.8615/ 14.0800\n",
      "Loss on epoch 0600: 0.9103 - interest rate: 12.8600/ 14.0800\n",
      "Loss on epoch 0900: 0.9100 - interest rate: 12.8600/ 14.0800\n",
      "Loss on epoch 0000: 0.9099 - interest rate: 12.8603/ 14.0800\n",
      "Loss on epoch 0300: 0.9096 - interest rate: 12.8625/ 14.0800\n",
      "Loss on epoch 0600: 0.9093 - interest rate: 12.8663/ 14.0800\n",
      "Loss on epoch 0900: 0.9091 - interest rate: 12.8718/ 14.0800\n",
      "Loss on epoch 0000: 0.9090 - interest rate: 12.8740/ 14.0800\n",
      "Loss on epoch 0300: 0.9087 - interest rate: 12.8815/ 14.0800\n",
      "Loss on epoch 0600: 0.9084 - interest rate: 12.8904/ 14.0800\n",
      "Loss on epoch 0900: 0.9081 - interest rate: 12.9005/ 14.0800\n",
      "Loss on epoch 0000: 0.9080 - interest rate: 12.9042/ 14.0800\n",
      "Loss on epoch 0300: 0.9076 - interest rate: 12.9163/ 14.0800\n",
      "Loss on epoch 0600: 0.9071 - interest rate: 12.9303/ 14.0800\n",
      "Loss on epoch 0900: 0.9065 - interest rate: 12.9470/ 14.0800\n",
      "Loss on epoch 0000: 0.9063 - interest rate: 12.9534/ 14.0800\n",
      "Loss on epoch 0300: 0.9053 - interest rate: 12.9765/ 14.0800\n",
      "Loss on epoch 0600: 0.9040 - interest rate: 13.0093/ 14.0800\n",
      "Loss on epoch 0900: 0.9025 - interest rate: 13.0508/ 14.0800\n",
      "Loss on epoch 0000: 0.9016 - interest rate: 13.0727/ 14.0800\n",
      "Loss on epoch 0300: 0.9006 - interest rate: 13.2769/ 14.0800\n",
      "Loss on epoch 0600: 0.9005 - interest rate: 13.3703/ 14.0800\n",
      "Loss on epoch 0900: 0.9059 - interest rate: 13.6047/ 14.0800\n",
      "Loss on epoch 0000: 0.8998 - interest rate: 13.4271/ 14.0800\n",
      "Loss on epoch 0300: 0.9060 - interest rate: 13.6456/ 14.0800\n",
      "Loss on epoch 0600: 0.8998 - interest rate: 13.4976/ 14.0800\n",
      "Loss on epoch 0900: 0.9017 - interest rate: 13.5759/ 14.0800\n",
      "Loss on epoch 0000: 0.9001 - interest rate: 13.5321/ 14.0800\n",
      "Loss on epoch 0300: 0.8998 - interest rate: 13.5344/ 14.0800\n",
      "Loss on epoch 0600: 0.9002 - interest rate: 13.5555/ 14.0800\n",
      "Loss on epoch 0900: 0.8994 - interest rate: 13.5346/ 14.0800\n",
      "Loss on epoch 0000: 0.8993 - interest rate: 13.5315/ 14.0800\n",
      "Loss on epoch 0300: 0.8993 - interest rate: 13.5364/ 14.0800\n",
      "Loss on epoch 0600: 0.8990 - interest rate: 13.5305/ 14.0800\n",
      "Loss on epoch 0900: 0.8987 - interest rate: 13.5242/ 14.0800\n",
      "Loss on epoch 0000: 0.8987 - interest rate: 13.5242/ 14.0800\n",
      "Loss on epoch 0300: 0.8985 - interest rate: 13.5222/ 14.0800\n",
      "Loss on epoch 0600: 0.8983 - interest rate: 13.5185/ 14.0800\n",
      "Loss on epoch 0900: 0.8981 - interest rate: 13.5144/ 14.0800\n",
      "Loss on epoch 0000: 0.8981 - interest rate: 13.5127/ 14.0800\n",
      "Loss on epoch 0300: 0.8979 - interest rate: 13.5092/ 14.0800\n",
      "Loss on epoch 0600: 0.8977 - interest rate: 13.5055/ 14.0800\n",
      "Loss on epoch 0900: 0.8976 - interest rate: 13.5016/ 14.0800\n",
      "Loss on epoch 0000: 0.8975 - interest rate: 13.5002/ 14.0800\n",
      "Loss on epoch 0300: 0.8973 - interest rate: 13.4962/ 14.0800\n",
      "Loss on epoch 0600: 0.8972 - interest rate: 13.4921/ 14.0800\n",
      "Loss on epoch 0900: 0.8970 - interest rate: 13.4881/ 14.0800\n",
      "Loss on epoch 0000: 0.8970 - interest rate: 13.4867/ 14.0800\n",
      "Loss on epoch 0300: 0.8968 - interest rate: 13.4826/ 14.0800\n",
      "Loss on epoch 0600: 0.8967 - interest rate: 13.4786/ 14.0800\n",
      "Loss on epoch 0900: 0.8965 - interest rate: 13.4746/ 14.0800\n",
      "Loss on epoch 0000: 0.8965 - interest rate: 13.4733/ 14.0800\n",
      "Loss on epoch 0300: 0.8963 - interest rate: 13.4693/ 14.0800\n",
      "Loss on epoch 0600: 0.8962 - interest rate: 13.4655/ 14.0800\n",
      "Loss on epoch 0900: 0.8961 - interest rate: 13.4617/ 14.0800\n",
      "Loss on epoch 0000: 0.8960 - interest rate: 13.4605/ 14.0800\n",
      "Loss on epoch 0300: 0.8959 - interest rate: 13.4569/ 14.0800\n",
      "Loss on epoch 0600: 0.8958 - interest rate: 13.4534/ 14.0800\n",
      "Loss on epoch 0900: 0.8956 - interest rate: 13.4501/ 14.0800\n",
      "Loss on epoch 0000: 0.8956 - interest rate: 13.4491/ 14.0800\n",
      "Loss on epoch 0300: 0.8955 - interest rate: 13.4461/ 14.0800\n",
      "Loss on epoch 0600: 0.8954 - interest rate: 13.4433/ 14.0800\n",
      "Loss on epoch 0900: 0.8953 - interest rate: 13.4407/ 14.0800\n",
      "Loss on epoch 0000: 0.8953 - interest rate: 13.4399/ 14.0800\n",
      "Loss on epoch 0300: 0.8952 - interest rate: 13.4377/ 14.0800\n",
      "Loss on epoch 0600: 0.8951 - interest rate: 13.4359/ 14.0800\n",
      "Loss on epoch 0900: 0.8951 - interest rate: 13.4343/ 14.0800\n"
     ]
    }
   ],
   "source": [
    "for i in range(20):\n",
    "    dataset = Landing_Club_Dataset(SMALL_SAMPLE_DATASET_NAME, LABEL_NAME, COL_NAMES)\n",
    "\n",
    "    (X_train_tsor, y_train_tsor) = dataset.get_train_dataset()\n",
    "    (X_test_tsor, y_test_tsor) = dataset.get_test_dataset()\n",
    "\n",
    "    # print(X_train_tsor[0:4])\n",
    "    # print(y_train_tsor[0:4])\n",
    "\n",
    "    losses = []\n",
    "    n_epochs = 1000\n",
    "    model.train()\n",
    "    for n in range(n_epochs):\n",
    "        # outputs = myModel(X_train_tsor)\n",
    "        outputs = model(X_train_tsor)\n",
    "\n",
    "        loss = criterion(outputs, y_train_tsor)\n",
    "        losses.append(loss)\n",
    "        if (n % (300) == 0):\n",
    "            with torch.no_grad():\n",
    "                peek_output_element = 3\n",
    "                print(f'Loss on epoch '\n",
    "                    f'{n:04}: {loss.item():.4f} - '\n",
    "                    f'interest rate: '\n",
    "                    f'{dataset.sc_y.inverse_transform(outputs[peek_output_element].reshape(-1,1)).reshape(1).item():.4f}'\n",
    "                    f'/ '\n",
    "                    f'{dataset.sc_y.inverse_transform(y_train_tsor[peek_output_element].reshape(-1, 1)).reshape(1).item():.4f}'\n",
    "                )\n",
    "        loss.backward()\n",
    "        optimizer.step()\n",
    "        optimizer.zero_grad()\n"
   ]
  },
  {
   "attachments": {},
   "cell_type": "markdown",
   "metadata": {},
   "source": [
    "Validate Predictions"
   ]
  },
  {
   "cell_type": "code",
   "execution_count": 9,
   "metadata": {},
   "outputs": [
    {
     "name": "stdout",
     "output_type": "stream",
     "text": [
      "Prediction / Test [0] = [[14.38895139]] / [[13.59]]\n",
      "Prediction / Test [1] = [[17.35221088]] / [[17.98999993]]\n",
      "Prediction / Test [2] = [[14.51118492]] / [[16.00999996]]\n",
      "Prediction / Test [3] = [[11.46135056]] / [[8.89999997]]\n",
      "Prediction / Test [4] = [[11.5768252]] / [[12.69]]\n",
      "Prediction / Test [5] = [[13.97650258]] / [[7.21000008]]\n",
      "Prediction / Test [6] = [[14.74425971]] / [[23.40000035]]\n",
      "Prediction / Test [7] = [[13.47854335]] / [[11.49000003]]\n",
      "Prediction / Test [8] = [[13.36563724]] / [[6.02999979]]\n",
      "Prediction / Test [9] = [[13.70918417]] / [[16.99000012]]\n"
     ]
    },
    {
     "data": {
      "image/png": "[encoded data removed]",
      "text/plain": [
       "<Figure size 640x480 with 1 Axes>"
      ]
     },
     "metadata": {},
     "output_type": "display_data"
    }
   ],
   "source": [
    "with torch.no_grad():\n",
    "    model.eval()\n",
    "    \n",
    "    preds = model.forward(X_test_tsor)\n",
    "    # X_test_feat_0 = X_test[2:, 0:1].reshape(-1)\n",
    "    preds_decoded = dataset.sc_y.inverse_transform(preds)\n",
    "    y_test_tsor_decoded = dataset.sc_y.inverse_transform(y_test_tsor)\n",
    "    for i in range(0, 10):\n",
    "        print(f'Prediction / Test [{i}] = '\n",
    "              f'{preds_decoded[i].reshape(-1, 1)} / '\n",
    "              f'{y_test_tsor_decoded[i].reshape(-1, 1)}')\n",
    "    plt.cla()\n",
    "    plt.plot(preds_decoded[0:50], label='Predictions')\n",
    "    plt.plot(y_test_tsor_decoded[0:50], label='Labels')\n",
    "    plt.legend()\n"
   ]
  },
  {
   "attachments": {},
   "cell_type": "markdown",
   "metadata": {},
   "source": [
    "Export ONNX Model"
   ]
  },
  {
   "cell_type": "code",
   "execution_count": 10,
   "metadata": {},
   "outputs": [],
   "source": [
    "model.eval()\n",
    "_dummy_input = torch.tensor([[0.1, 0.1, 0.1]])\n",
    "torch.onnx.export(model, \n",
    "                  _dummy_input, \n",
    "                  \"landing_club_model.onnx\",\n",
    "                  verbose=False,\n",
    "                  input_names=[\"features\"],\n",
    "                  output_names=[\"prediction\"],\n",
    "                  export_params=True)\n"
   ]
  },
  {
   "attachments": {},
   "cell_type": "markdown",
   "metadata": {},
   "source": [
    "Test Wrapper"
   ]
  }
 ],
 "metadata": {
  "kernelspec": {
   "display_name": "Python 3",
   "language": "python",
   "name": "python3"
  },
  "language_info": {
   "codemirror_mode": {
    "name": "ipython",
    "version": 3
   },
   "file_extension": ".py",
   "mimetype": "text/x-python",
   "name": "python",
   "nbconvert_exporter": "python",
   "pygments_lexer": "ipython3",
   "version": "3.10.9"
  },
  "orig_nbformat": 4
 },
 "nbformat": 4,
 "nbformat_minor": 2
}
