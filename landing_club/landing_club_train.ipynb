{
 "cells": [
  {
   "cell_type": "code",
   "execution_count": 1,
   "metadata": {},
   "outputs": [],
   "source": [
    "import pandas as pd\n",
    "from pandas import DataFrame\n",
    "import torch\n",
    "import torch.nn as nn\n",
    "from torch.utils.data import Dataset, dataloader\n",
    "import numpy as np\n",
    "from sklearn.model_selection import train_test_split\n",
    "from sklearn.preprocessing import StandardScaler\n",
    "from sklearn.preprocessing import OneHotEncoder\n",
    "from sklearn.preprocessing import LabelEncoder\n",
    "from sklearn.preprocessing import LabelBinarizer\n",
    "import torch.onnx\n",
    "import matplotlib.pyplot as plt\n",
    "import pickle as p\n",
    "from model_wrapper import ModelWrapper\n",
    "from landing_club_wrapper import Landing_Club_Wrapper\n",
    "\n",
    "pd.options.display.max_rows=999"
   ]
  },
  {
   "cell_type": "code",
   "execution_count": 2,
   "metadata": {},
   "outputs": [],
   "source": [
    "FULL_DATASET_NAME = 'data/landing_club/accepted_2007_to_2018Q4.csv'\n",
    "SMALL_SAMPLE_DATASET_NAME = 'data/landing_club/accepted_2007_to_2018Q4_small_sample.csv'\n",
    "SMALL_HEAD_DATASET_NAME = 'data/landing_club/accepted_2007_to_2018Q4_small_head.csv'"
   ]
  },
  {
   "attachments": {},
   "cell_type": "markdown",
   "metadata": {},
   "source": [
    "Sample a few records for faster work"
   ]
  },
  {
   "cell_type": "code",
   "execution_count": 3,
   "metadata": {},
   "outputs": [],
   "source": [
    "# Make small dataset\n",
    "# col_names = ['loan_amnt', 'home_ownership', 'annual_inc', 'purpose', 'addr_state', 'term', 'emp_length', 'int_rate']\n",
    "# col_names = ['loan_amnt', 'home_ownership', 'annual_inc','term', 'emp_length', 'int_rate']\n",
    "COL_NAMES = ['loan_amnt', 'home_ownership', 'annual_inc', 'int_rate']\n",
    "FEATURE_NAMES = ['loan_amnt', 'home_ownership', 'annual_inc']\n",
    "LABEL_NAME = 'int_rate'\n",
    "record_count = 1000\n",
    "# acc_raw_df = pd.read_csv(FULL_DATASET_NAME)\n",
    "# acc_raw_df.sample(record_count).to_csv(SMALL_SAMPLE_DATASET_NAME, columns=col_names)\n",
    "# acc_raw_df.head(record_count).to_csv(SMALL_HEAD_DATASET_NAME, columns=col_names)"
   ]
  },
  {
   "attachments": {},
   "cell_type": "markdown",
   "metadata": {},
   "source": [
    "## Data Preparation\n",
    "Training and validation data preparation is combined in this class"
   ]
  },
  {
   "cell_type": "code",
   "execution_count": 4,
   "metadata": {},
   "outputs": [],
   "source": [
    "\n",
    "class Landing_Club_Dataset(Dataset):\n",
    "    def __init__(self, file_path: str, col_label, col_names = []):\n",
    "        self.sc_x = StandardScaler()\n",
    "        self.sc_y = StandardScaler()\n",
    "        self.label_enc = LabelEncoder()\n",
    "        self.file_path = file_path\n",
    "        self.col_label = col_label\n",
    "        self.col_names = col_names\n",
    "        self.read_and_preprocess_datafile()\n",
    "        \n",
    "    def read_and_preprocess_datafile(self):\n",
    "        self.df = pd.read_csv(self.file_path, usecols = self.col_names)\n",
    "        self.clean()\n",
    "        self.split_features_and_labels() # split feature columns and label column\n",
    "        self.encode_categorical_columns()\n",
    "        self.split_train_test_and_standardize(test_size=.2)\n",
    "        self.to_tensor()\n",
    "        self.wrapper = Landing_Club_Wrapper(self.sc_x, self.sc_y, self.label_enc)\n",
    "        self.write_model_wrapper()\n",
    "            \n",
    "    def __get_item__(self, index: int):\n",
    "        return (self.X_tsor[index], self.y_tsor[index])\n",
    "    \n",
    "    def __len__(self):\n",
    "        return len(self.df)\n",
    "    \n",
    "    def to_numpy(self):\n",
    "        return self.df.to_numpy()\n",
    "    \n",
    "    def to_tensor(self, with_grad=False):\n",
    "        self.X_tsor = torch.tensor(DataFrame.to_numpy(self.X_df), requires_grad=with_grad)\n",
    "        self.y_tsor = torch.tensor(self.y_df, requires_grad=with_grad)\n",
    "    \n",
    "    def clean(self):\n",
    "        self.df.dropna(inplace=True)\n",
    "        return\n",
    "    \n",
    "    def encode_categorical_columns(self):\n",
    "        categorical_cols = list(self.X_df.select_dtypes(include=['object']))\n",
    "        for col in categorical_cols:\n",
    "            label_encoded = self.label_enc.fit_transform(self.X_df[col])\n",
    "            self.X_df[col] = label_encoded\n",
    "\n",
    "    def split_features_and_labels(self):\n",
    "        self.X_df = self.df.drop(columns=[self.col_label])\n",
    "        self.y_df = self.df[self.col_label]\n",
    "\n",
    "    def split_train_test_and_standardize(self, test_size):\n",
    "        X_train_orig, X_test_orig, y_train_orig, y_test_orig = \\\n",
    "            train_test_split(self.X_df.values, self.y_df.values, test_size=test_size, shuffle=False)\n",
    "\n",
    "        y_train_orig = y_train_orig.reshape(-1, 1)\n",
    "        y_test_orig = y_test_orig.reshape(-1, 1)\n",
    "\n",
    "        self.X_train = Landing_Club_Wrapper.standardize(self.sc_x, X_train_orig, True)\n",
    "        self.X_test = Landing_Club_Wrapper.standardize(self.sc_x, X_test_orig, False)\n",
    "        self.y_train = Landing_Club_Wrapper.standardize(self.sc_y, y_train_orig, True)\n",
    "        self.y_test = Landing_Club_Wrapper.standardize(self.sc_y, y_test_orig, False)\n",
    "\n",
    "    def get_train_dataset(self):\n",
    "        X_train_tsor = torch.from_numpy(self.X_train.astype(np.float32))\n",
    "        y_train_tsor = torch.from_numpy(self.y_train.astype(np.float32))\n",
    "        return (X_train_tsor, y_train_tsor)\n",
    "\n",
    "    def get_test_dataset(self):\n",
    "        X_test_tsor = torch.from_numpy(self.X_test.astype(np.float32))\n",
    "        y_test_tsor = torch.from_numpy(self.y_test.astype(np.float32))\n",
    "        return (X_test_tsor, y_test_tsor)\n",
    "\n",
    "    def write_model_wrapper(self):    \n",
    "        wrapper_file = open('landing_club_wrapper.pickle', 'wb')\n",
    "        p.dump(self.wrapper, wrapper_file)\n",
    "        wrapper_file.close()\n",
    "    "
   ]
  },
  {
   "cell_type": "code",
   "execution_count": 5,
   "metadata": {},
   "outputs": [
    {
     "name": "stdout",
     "output_type": "stream",
     "text": [
      "scaler x-mean = [1.56178125e+04 7.42500000e-01 8.04752829e+04]\n",
      "scaler y-mean = [12.06955]\n",
      "--- [-1.3893650448459347, 1.3940472808066202, -0.9487243604900134]\n",
      "y_hat = 8.613235796921813\n"
     ]
    }
   ],
   "source": [
    "dataset = Landing_Club_Dataset(SMALL_HEAD_DATASET_NAME, LABEL_NAME, COL_NAMES)\n",
    "\n",
    "print(f'scaler x-mean = {dataset.sc_x.mean_}')\n",
    "print(f'scaler y-mean = {dataset.sc_y.mean_}')\n",
    "\n",
    "feature_list = [3600.0, 'RENT', 40000.0]\n",
    "prepared_features = dataset.wrapper.preprocess(*feature_list)\n",
    "print(f'--- {prepared_features}')\n",
    "post_y = dataset.wrapper.postprocess(-0.8)\n",
    "print(f'y_hat = {post_y}')\n"
   ]
  },
  {
   "attachments": {},
   "cell_type": "markdown",
   "metadata": {},
   "source": [
    "Define Model explicitely as a Class"
   ]
  },
  {
   "attachments": {},
   "cell_type": "markdown",
   "metadata": {},
   "source": []
  },
  {
   "cell_type": "code",
   "execution_count": 6,
   "metadata": {},
   "outputs": [],
   "source": [
    "feature_count = len(dataset.X_df.columns)\n",
    "\n",
    "\n",
    "class ClassModel(nn.Module):\n",
    "    def __init__(self, input_dim, output_dim):\n",
    "        super().__init__()\n",
    "        self.fc1 = nn.Linear(input_dim, 5)\n",
    "        self.relu1 = nn.ReLU()\n",
    "        self.fc2 = nn.Linear(5, 5)\n",
    "        self.relu2 = nn.ReLU()\n",
    "        self.fc3 = nn.Linear(5, 1)\n",
    "\n",
    "    def forward(self, X):\n",
    "        x = self.fc1(X)\n",
    "        x = self.relu1(x)\n",
    "        x = self.fc2(x)\n",
    "        x = self.relu2(x)\n",
    "        x = self.fc3(x)\n",
    "        return x\n",
    "\n",
    "\n",
    "_class_model = ClassModel(feature_count, 1)\n",
    "_seq_model = nn.Sequential(\n",
    "    nn.Linear(feature_count, 3),\n",
    "    nn.Sigmoid(),\n",
    "    nn.Linear(3, 3),\n",
    "    nn.Sigmoid(),\n",
    "    nn.Linear(3, 1)\n",
    ")\n",
    "\n",
    "model = _seq_model\n"
   ]
  },
  {
   "attachments": {},
   "cell_type": "markdown",
   "metadata": {},
   "source": [
    "Define training objects"
   ]
  },
  {
   "cell_type": "code",
   "execution_count": 7,
   "metadata": {},
   "outputs": [],
   "source": [
    "criterion = nn.MSELoss()\n",
    "optimizer = torch.optim.SGD(lr=.5, params=model.parameters())"
   ]
  },
  {
   "attachments": {},
   "cell_type": "markdown",
   "metadata": {},
   "source": [
    "Create Tensors"
   ]
  },
  {
   "cell_type": "code",
   "execution_count": 8,
   "metadata": {},
   "outputs": [
    {
     "name": "stdout",
     "output_type": "stream",
     "text": [
      "tensor([[-1.3894, -0.8231, -0.5971],\n",
      "        [ 1.0500, -0.8231, -0.3627],\n",
      "        [ 0.5066, -0.8231, -0.4096],\n",
      "        [ 2.2408, -0.8231,  0.6920]])\n",
      "tensor([[ 0.4445],\n",
      "        [-0.0184],\n",
      "        [-0.2985],\n",
      "        [ 0.6436]])\n"
     ]
    }
   ],
   "source": [
    "(X_train_tsor, y_train_tsor) = dataset.get_train_dataset()\n",
    "(X_test_tsor, y_test_tsor) = dataset.get_test_dataset()\n",
    "\n",
    "print(X_train_tsor[0:4])\n",
    "print(y_train_tsor[0:4])\n"
   ]
  },
  {
   "attachments": {},
   "cell_type": "markdown",
   "metadata": {},
   "source": [
    "Train Model"
   ]
  },
  {
   "cell_type": "code",
   "execution_count": 9,
   "metadata": {},
   "outputs": [
    {
     "name": "stdout",
     "output_type": "stream",
     "text": [
      "Loss on epoch 0000: 1.0110 - interest rate: 12.5683/ 14.8500\n",
      "   loan_amnt home_ownership  annual_inc\n",
      "3    35000.0       MORTGAGE    110000.0\n",
      "tensor([ 2.2408, -0.8231,  0.6920]) - yhat: tensor([0.6436])\n",
      "---------------------------------------------------------------------------\n",
      "Loss on epoch 1000: 0.9117 - interest rate: 14.1412/ 14.8500\n",
      "   loan_amnt home_ownership  annual_inc\n",
      "3    35000.0       MORTGAGE    110000.0\n",
      "tensor([ 2.2408, -0.8231,  0.6920]) - yhat: tensor([0.6436])\n",
      "---------------------------------------------------------------------------\n",
      "Loss on epoch 2000: 0.8969 - interest rate: 14.6136/ 14.8500\n",
      "   loan_amnt home_ownership  annual_inc\n",
      "3    35000.0       MORTGAGE    110000.0\n",
      "tensor([ 2.2408, -0.8231,  0.6920]) - yhat: tensor([0.6436])\n",
      "---------------------------------------------------------------------------\n",
      "Loss on epoch 3000: 0.8905 - interest rate: 14.4625/ 14.8500\n",
      "   loan_amnt home_ownership  annual_inc\n",
      "3    35000.0       MORTGAGE    110000.0\n",
      "tensor([ 2.2408, -0.8231,  0.6920]) - yhat: tensor([0.6436])\n",
      "---------------------------------------------------------------------------\n",
      "Loss on epoch 4000: 0.8878 - interest rate: 14.2639/ 14.8500\n",
      "   loan_amnt home_ownership  annual_inc\n",
      "3    35000.0       MORTGAGE    110000.0\n",
      "tensor([ 2.2408, -0.8231,  0.6920]) - yhat: tensor([0.6436])\n",
      "---------------------------------------------------------------------------\n",
      "Loss on epoch 5000: 0.8867 - interest rate: 14.2175/ 14.8500\n",
      "   loan_amnt home_ownership  annual_inc\n",
      "3    35000.0       MORTGAGE    110000.0\n",
      "tensor([ 2.2408, -0.8231,  0.6920]) - yhat: tensor([0.6436])\n",
      "---------------------------------------------------------------------------\n",
      "Loss on epoch 6000: 0.8860 - interest rate: 14.1989/ 14.8500\n",
      "   loan_amnt home_ownership  annual_inc\n",
      "3    35000.0       MORTGAGE    110000.0\n",
      "tensor([ 2.2408, -0.8231,  0.6920]) - yhat: tensor([0.6436])\n",
      "---------------------------------------------------------------------------\n",
      "Loss on epoch 7000: 0.8857 - interest rate: 14.1955/ 14.8500\n",
      "   loan_amnt home_ownership  annual_inc\n",
      "3    35000.0       MORTGAGE    110000.0\n",
      "tensor([ 2.2408, -0.8231,  0.6920]) - yhat: tensor([0.6436])\n",
      "---------------------------------------------------------------------------\n",
      "Loss on epoch 8000: 0.8855 - interest rate: 14.1988/ 14.8500\n",
      "   loan_amnt home_ownership  annual_inc\n",
      "3    35000.0       MORTGAGE    110000.0\n",
      "tensor([ 2.2408, -0.8231,  0.6920]) - yhat: tensor([0.6436])\n",
      "---------------------------------------------------------------------------\n",
      "Loss on epoch 9000: 0.8853 - interest rate: 14.2070/ 14.8500\n",
      "   loan_amnt home_ownership  annual_inc\n",
      "3    35000.0       MORTGAGE    110000.0\n",
      "tensor([ 2.2408, -0.8231,  0.6920]) - yhat: tensor([0.6436])\n",
      "---------------------------------------------------------------------------\n"
     ]
    }
   ],
   "source": [
    "losses = []\n",
    "n_epochs = 10000\n",
    "model.train()\n",
    "for n in range(n_epochs):\n",
    "    # outputs = myModel(X_train_tsor)\n",
    "    outputs = model(X_train_tsor)\n",
    "\n",
    "    loss = criterion(outputs, y_train_tsor)\n",
    "    losses.append(loss)\n",
    "    if (n % (1000) == 0):\n",
    "        with torch.no_grad():\n",
    "            peek_output_element = 3\n",
    "            print(f'Loss on epoch '\n",
    "                  f'{n:04}: {loss.item():.4f} - '\n",
    "                  f'interest rate: '\n",
    "                  f'{dataset.sc_y.inverse_transform(outputs[peek_output_element].reshape(-1,1)).reshape(1).item():.4f}'\n",
    "                  f'/ '\n",
    "                  f'{dataset.sc_y.inverse_transform(y_train_tsor[peek_output_element].reshape(-1, 1)).reshape(1).item():.4f}'\n",
    "                  f'\\n{dataset.df.iloc[[peek_output_element]].loc[:, [\"loan_amnt\", \"home_ownership\", \"annual_inc\"]]}'\n",
    "                  f'\\n{X_train_tsor[peek_output_element]} - yhat: {y_train_tsor[peek_output_element]}\\n'\n",
    "                  f'---------------------------------------------------------------------------')\n",
    "    loss.backward()\n",
    "    optimizer.step()\n",
    "    optimizer.zero_grad()\n"
   ]
  },
  {
   "attachments": {},
   "cell_type": "markdown",
   "metadata": {},
   "source": [
    "Validate Predictions"
   ]
  },
  {
   "cell_type": "code",
   "execution_count": 10,
   "metadata": {},
   "outputs": [
    {
     "name": "stdout",
     "output_type": "stream",
     "text": [
      "Prediction / Test [0] = [[12.30794785]] / [[9.16999991]]\n",
      "Prediction / Test [1] = [[13.22665587]] / [[5.31999986]]\n",
      "Prediction / Test [2] = [[10.45205873]] / [[9.16999991]]\n",
      "Prediction / Test [3] = [[13.8686314]] / [[8.48999991]]\n",
      "Prediction / Test [4] = [[11.44527905]] / [[9.79999993]]\n",
      "Prediction / Test [5] = [[11.85293091]] / [[17.26999983]]\n",
      "Prediction / Test [6] = [[14.16352189]] / [[19.48000022]]\n",
      "Prediction / Test [7] = [[9.24107985]] / [[13.98999998]]\n",
      "Prediction / Test [8] = [[14.05513569]] / [[15.77]]\n",
      "Prediction / Test [9] = [[13.76384552]] / [[27.99000031]]\n"
     ]
    },
    {
     "data": {
      "image/png": "[encoded data removed]",
      "text/plain": [
       "<Figure size 640x480 with 1 Axes>"
      ]
     },
     "metadata": {},
     "output_type": "display_data"
    }
   ],
   "source": [
    "with torch.no_grad():\n",
    "    model.eval()\n",
    "    \n",
    "    preds = model.forward(X_test_tsor)\n",
    "    # X_test_feat_0 = X_test[2:, 0:1].reshape(-1)\n",
    "    preds_decoded = dataset.sc_y.inverse_transform(preds)\n",
    "    y_test_tsor_decoded = dataset.sc_y.inverse_transform(y_test_tsor)\n",
    "    for i in range(0, 10):\n",
    "        print(f'Prediction / Test [{i}] = '\n",
    "              f'{preds_decoded[i].reshape(-1, 1)} / '\n",
    "              f'{y_test_tsor_decoded[i].reshape(-1, 1)}')\n",
    "    plt.cla()\n",
    "    plt.plot(preds_decoded[0:50], label='Predictions')\n",
    "    plt.plot(y_test_tsor_decoded[0:50], label='Labels')\n",
    "    plt.legend()\n"
   ]
  },
  {
   "attachments": {},
   "cell_type": "markdown",
   "metadata": {},
   "source": [
    "Export ONNX Model"
   ]
  },
  {
   "cell_type": "code",
   "execution_count": 11,
   "metadata": {},
   "outputs": [],
   "source": [
    "model.eval()\n",
    "_dummy_input = torch.tensor([[0.1, 0.1, 0.1]])\n",
    "torch.onnx.export(model, \n",
    "                  _dummy_input, \n",
    "                  \"landing_club_model.onnx\",\n",
    "                  verbose=False,\n",
    "                  input_names=[\"features\"],\n",
    "                  output_names=[\"prediction\"],\n",
    "                  export_params=True)\n"
   ]
  },
  {
   "attachments": {},
   "cell_type": "markdown",
   "metadata": {},
   "source": [
    "Test Wrapper"
   ]
  }
 ],
 "metadata": {
  "kernelspec": {
   "display_name": "Python 3",
   "language": "python",
   "name": "python3"
  },
  "language_info": {
   "codemirror_mode": {
    "name": "ipython",
    "version": 3
   },
   "file_extension": ".py",
   "mimetype": "text/x-python",
   "name": "python",
   "nbconvert_exporter": "python",
   "pygments_lexer": "ipython3",
   "version": "3.9.16"
  },
  "orig_nbformat": 4
 },
 "nbformat": 4,
 "nbformat_minor": 2
}
